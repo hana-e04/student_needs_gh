{
 "cells": [
  {
   "cell_type": "code",
   "execution_count": 20,
   "id": "fd374e2f",
   "metadata": {},
   "outputs": [],
   "source": [
    "import pandas as pd\n",
    "import os"
   ]
  },
  {
   "cell_type": "code",
   "execution_count": 3,
   "id": "c1bd7449",
   "metadata": {},
   "outputs": [
    {
     "data": {
      "text/plain": [
       "'/Users/hanalee/student_needs_repo/notebooks'"
      ]
     },
     "execution_count": 3,
     "metadata": {},
     "output_type": "execute_result"
    }
   ],
   "source": [
    "os.getcwd()"
   ]
  },
  {
   "cell_type": "code",
   "execution_count": null,
   "id": "79970f8d",
   "metadata": {},
   "outputs": [],
   "source": [
    "# range from 2012 - 2023\n",
    "# import file\n",
    "def read_file(years):\n",
    "    market_ = pd.read_csv(f\"../data/raw/{year}_uncleaned_marketdata.csv\")\n",
    "    market_a = market_.iloc[71:109, 1:15]\n",
    "    market_t = market_a.transpose()\n",
    "    return(market_t)\n",
    "\n",
    "def format_df(market_t):\n",
    "    df_index = [5, 12, 13, 16, 17, 18, 19, 22,\n",
    "            27, 36, 37]\n",
    "\n",
    "    new_col = ['retail_total', 'furniture', 'appliances',\n",
    "                'food_stores', 'grocery', 'alcohol',\n",
    "                'hp_care', 'clothes', 'books_hobbies',\n",
    "                'fuel', 'food_service']\n",
    "\n",
    "    market_df_uncleaned = pd.DataFrame()\n",
    "    for i in range(len(df_index)):\n",
    "        market_df_uncleaned[new_col[i]] = market_t.iloc[1:, df_index[i]]\n",
    "\n",
    "    market_df_uncleaned = market_df_uncleaned.reset_index(drop = True)\n",
    "\n",
    "    market_df_uncleaned.insert(0, \"month\", range(1,14))\n",
    "    market_df_uncleaned.loc[12,'month'] = 'total'\n",
    "\n",
    "    year_l = []\n",
    "    for i in range(13):\n",
    "        year_l.append(year)\n",
    "\n",
    "    market_df_uncleaned.insert(0, \"year\", year_l)\n",
    "    return(market_df_uncleaned)\n",
    "\n",
    "def number(i):\n",
    "    return(int(i.replace(\",\",\"\")))\n",
    "\n",
    "def total_data(market_df_uncleaned):\n",
    "    num_df = pd.DataFrame()\n",
    "    cols = market_df_uncleaned.columns\n",
    "    for col in range(13):\n",
    "        if col < 2:\n",
    "            num_df[cols[col]] = market_df_uncleaned.iloc[:,col]\n",
    "        else:\n",
    "            num_l = list(market_df_uncleaned.iloc[:12,col].apply(number))\n",
    "            num_l.append(sum(num_l))\n",
    "            num_df[cols[col]] = num_l\n",
    "    return(num_df)\n",
    "\n",
    "def export_file(num_df, years, folder = \"interim\"):\n",
    "    num_df.to_csv(f\"../data/{folder}/{years}marketdata_int.csv\", index = False)"
   ]
  },
  {
   "cell_type": "code",
   "execution_count": 137,
   "id": "2417aab8",
   "metadata": {},
   "outputs": [
    {
     "name": "stderr",
     "output_type": "stream",
     "text": [
      "/var/folders/04/nxvffhk52pq3clf84z2bkg1r0000gn/T/ipykernel_35399/2098735549.py:25: FutureWarning: Setting an item of incompatible dtype is deprecated and will raise an error in a future version of pandas. Value 'total' has dtype incompatible with int64, please explicitly cast to a compatible dtype first.\n",
      "  market_df_uncleaned.loc[12,'month'] = 'total'\n",
      "/var/folders/04/nxvffhk52pq3clf84z2bkg1r0000gn/T/ipykernel_35399/2098735549.py:25: FutureWarning: Setting an item of incompatible dtype is deprecated and will raise an error in a future version of pandas. Value 'total' has dtype incompatible with int64, please explicitly cast to a compatible dtype first.\n",
      "  market_df_uncleaned.loc[12,'month'] = 'total'\n",
      "/var/folders/04/nxvffhk52pq3clf84z2bkg1r0000gn/T/ipykernel_35399/2098735549.py:25: FutureWarning: Setting an item of incompatible dtype is deprecated and will raise an error in a future version of pandas. Value 'total' has dtype incompatible with int64, please explicitly cast to a compatible dtype first.\n",
      "  market_df_uncleaned.loc[12,'month'] = 'total'\n",
      "/var/folders/04/nxvffhk52pq3clf84z2bkg1r0000gn/T/ipykernel_35399/2098735549.py:25: FutureWarning: Setting an item of incompatible dtype is deprecated and will raise an error in a future version of pandas. Value 'total' has dtype incompatible with int64, please explicitly cast to a compatible dtype first.\n",
      "  market_df_uncleaned.loc[12,'month'] = 'total'\n",
      "/var/folders/04/nxvffhk52pq3clf84z2bkg1r0000gn/T/ipykernel_35399/2098735549.py:25: FutureWarning: Setting an item of incompatible dtype is deprecated and will raise an error in a future version of pandas. Value 'total' has dtype incompatible with int64, please explicitly cast to a compatible dtype first.\n",
      "  market_df_uncleaned.loc[12,'month'] = 'total'\n",
      "/var/folders/04/nxvffhk52pq3clf84z2bkg1r0000gn/T/ipykernel_35399/2098735549.py:25: FutureWarning: Setting an item of incompatible dtype is deprecated and will raise an error in a future version of pandas. Value 'total' has dtype incompatible with int64, please explicitly cast to a compatible dtype first.\n",
      "  market_df_uncleaned.loc[12,'month'] = 'total'\n",
      "/var/folders/04/nxvffhk52pq3clf84z2bkg1r0000gn/T/ipykernel_35399/2098735549.py:25: FutureWarning: Setting an item of incompatible dtype is deprecated and will raise an error in a future version of pandas. Value 'total' has dtype incompatible with int64, please explicitly cast to a compatible dtype first.\n",
      "  market_df_uncleaned.loc[12,'month'] = 'total'\n",
      "/var/folders/04/nxvffhk52pq3clf84z2bkg1r0000gn/T/ipykernel_35399/2098735549.py:25: FutureWarning: Setting an item of incompatible dtype is deprecated and will raise an error in a future version of pandas. Value 'total' has dtype incompatible with int64, please explicitly cast to a compatible dtype first.\n",
      "  market_df_uncleaned.loc[12,'month'] = 'total'\n",
      "/var/folders/04/nxvffhk52pq3clf84z2bkg1r0000gn/T/ipykernel_35399/2098735549.py:25: FutureWarning: Setting an item of incompatible dtype is deprecated and will raise an error in a future version of pandas. Value 'total' has dtype incompatible with int64, please explicitly cast to a compatible dtype first.\n",
      "  market_df_uncleaned.loc[12,'month'] = 'total'\n",
      "/var/folders/04/nxvffhk52pq3clf84z2bkg1r0000gn/T/ipykernel_35399/2098735549.py:25: FutureWarning: Setting an item of incompatible dtype is deprecated and will raise an error in a future version of pandas. Value 'total' has dtype incompatible with int64, please explicitly cast to a compatible dtype first.\n",
      "  market_df_uncleaned.loc[12,'month'] = 'total'\n",
      "/var/folders/04/nxvffhk52pq3clf84z2bkg1r0000gn/T/ipykernel_35399/2098735549.py:25: FutureWarning: Setting an item of incompatible dtype is deprecated and will raise an error in a future version of pandas. Value 'total' has dtype incompatible with int64, please explicitly cast to a compatible dtype first.\n",
      "  market_df_uncleaned.loc[12,'month'] = 'total'\n",
      "/var/folders/04/nxvffhk52pq3clf84z2bkg1r0000gn/T/ipykernel_35399/2098735549.py:25: FutureWarning: Setting an item of incompatible dtype is deprecated and will raise an error in a future version of pandas. Value 'total' has dtype incompatible with int64, please explicitly cast to a compatible dtype first.\n",
      "  market_df_uncleaned.loc[12,'month'] = 'total'\n"
     ]
    }
   ],
   "source": [
    "for year in range(2012, 2024):\n",
    "    df = read_file(year)\n",
    "    formatted = format_df(df)\n",
    "    numeric = total_data(formatted)\n",
    "    export_file(numeric, year)"
   ]
  },
  {
   "cell_type": "code",
   "execution_count": 89,
   "id": "5aafa24f",
   "metadata": {},
   "outputs": [],
   "source": [
    "dum_df = pd.read_csv(f\"../data/interim/2012marketdata_int.csv\")\n"
   ]
  },
  {
   "cell_type": "code",
   "execution_count": 98,
   "id": "4051165f",
   "metadata": {},
   "outputs": [
    {
     "ename": "SyntaxError",
     "evalue": "expected ':' (268398796.py, line 6)",
     "output_type": "error",
     "traceback": [
      "\u001b[0;36m  Cell \u001b[0;32mIn[98], line 6\u001b[0;36m\u001b[0m\n\u001b[0;31m    def total_data()\u001b[0m\n\u001b[0m                    ^\u001b[0m\n\u001b[0;31mSyntaxError\u001b[0m\u001b[0;31m:\u001b[0m expected ':'\n"
     ]
    }
   ],
   "source": [
    "total = 0\n",
    "dum_df.iloc[:12,2]\n",
    "def number(i):\n",
    "    return(int(i.replace(\",\",\"\")))\n",
    "\n",
    "def total_data()\n",
    "num_df = pd.DataFrame()\n",
    "cols = dum_df.columns\n",
    "for col in range(13):\n",
    "    if col < 2:\n",
    "        num_df[cols[col]] = dum_df.iloc[:13,col]\n",
    "    else:\n",
    "        num_l = list(dum_df.iloc[:12,col].apply(number))\n",
    "        num_l.append(sum(num_l))\n",
    "        num_df[cols[col]] = num_l\n",
    "\n",
    "    #dum_df.iloc[:12,col] = dum_df.iloc[:12,col].apply(number)"
   ]
  },
  {
   "cell_type": "code",
   "execution_count": 99,
   "id": "c952fc25",
   "metadata": {},
   "outputs": [],
   "source": [
    "market_df_uncleaned = pd.DataFrame()\n",
    "for i in range(len(df_index)):\n",
    "    market_df_uncleaned[new_col[i]] = market_t.iloc[1:, df_index[i]]\n",
    "\n",
    "market_df_uncleaned = market_df_uncleaned.reset_index(drop = True)\n"
   ]
  },
  {
   "cell_type": "code",
   "execution_count": 138,
   "id": "69e45b4e",
   "metadata": {},
   "outputs": [],
   "source": [
    "def full_marketdata(full_df, start_year = 2012):\n",
    "    market_df = pd.read_csv(f\"../data/interim/{start_year}marketdata_int.csv\")\n",
    "    for year in range(2013, 2024):\n",
    "        market_df = pd.concat([pd.read_csv(f\"../data/interim/{year}marketdata_int.csv\"), market_df])\n",
    "    return(market_df)"
   ]
  },
  {
   "cell_type": "code",
   "execution_count": 139,
   "id": "e6492944",
   "metadata": {},
   "outputs": [],
   "source": [
    "market_df = pd.DataFrame()\n",
    "full_df = full_marketdata(market_df)"
   ]
  },
  {
   "cell_type": "code",
   "execution_count": 101,
   "id": "1be501ae",
   "metadata": {},
   "outputs": [],
   "source": [
    "full_df\n",
    "export_file(full_df, years= \"all\", folder = \"processed\")"
   ]
  },
  {
   "cell_type": "code",
   "execution_count": null,
   "id": "4919ee3a",
   "metadata": {},
   "outputs": [],
   "source": []
  }
 ],
 "metadata": {
  "kernelspec": {
   "display_name": "base",
   "language": "python",
   "name": "python3"
  },
  "language_info": {
   "codemirror_mode": {
    "name": "ipython",
    "version": 3
   },
   "file_extension": ".py",
   "mimetype": "text/x-python",
   "name": "python",
   "nbconvert_exporter": "python",
   "pygments_lexer": "ipython3",
   "version": "3.11.8"
  }
 },
 "nbformat": 4,
 "nbformat_minor": 5
}
